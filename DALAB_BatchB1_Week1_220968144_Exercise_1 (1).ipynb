{
 "cells": [
  {
   "cell_type": "markdown",
   "id": "56873dd1",
   "metadata": {},
   "source": [
    "# Data Frame Creation and Manipulation\n",
    "### Abeer Sethia | 220968144 | Week 1 | Exercise 1\n",
    "\n",
    "1. Create Python program to find the average of 10 numbers using while loop\n",
    "2. Create Python program to find the geometric mean of n numbers\n",
    "3. Create Python program to check whether the given integer is a prime number or not\n",
    "4. Create Python program to implement linear search and implement binary search\n",
    "5. Using math package, Create Python program to find the area of a triangle whose sides are given\n",
    "\n",
    "EXERCISE 1: - Introduction to Pandas Data frame creation and manipulation\n",
    "1. Create a data frame with details of 10 students and columns as Roll Number, Name, Gender, Marks1, Marks2, Marks3.\n",
    "2. Create a new column with total marks\n",
    "3. Find the lowest marks in Marks1\n",
    "4. Find the Highest marks in Marks2\n",
    "5. Find the average marks in Marks3\n",
    "6. Find student name with highest average\n",
    "7. Find how many students failed in Marks2 (<40)"
   ]
  },
  {
   "cell_type": "markdown",
   "id": "04bcf10b",
   "metadata": {},
   "source": [
    "### 1. Create a data frame with details of 10 students and columns as Roll Number, Name, Gender, Marks1, Marks2, Marks3.\n"
   ]
  },
  {
   "cell_type": "code",
   "execution_count": 1,
   "id": "5ee0e191",
   "metadata": {
    "scrolled": true
   },
   "outputs": [
    {
     "name": "stdout",
     "output_type": "stream",
     "text": [
      "   Roll Number      Name  Gender  Marks1  Marks2  Marks3\n",
      "0            1     Abeer    Male      38      86      91\n",
      "1            2    Ananya  Female      32      26      94\n",
      "2            3    Aditya    Male      72      24     100\n",
      "3            4     Reeva  Female      82      83      64\n",
      "4            5    Saanvi  Female      32      56      94\n",
      "5            6    Amruni  Female      32      56      94\n",
      "6            7     Anant    Male      32      56      94\n",
      "7            8   Apporva  Female      32      56      94\n",
      "8            9  Snehansh    Male      32      16      94\n",
      "9           10   Shobhit    Male      32      28      94\n"
     ]
    }
   ],
   "source": [
    "import pandas as pd\n",
    "import numpy as np\n",
    "\n",
    "data = [[1, 'Abeer', 'Male', 38, 86, 91], [2, 'Ananya', 'Female', 32, 26, 94], [3, 'Aditya', 'Male', 72, 24, 100], [4, 'Reeva', 'Female', 82, 83, 64], [5, 'Saanvi', 'Female', 32, 56, 94],[6, 'Amruni', 'Female', 32, 56, 94],[7, 'Anant', 'Male', 32, 56, 94],[8, 'Apporva', 'Female', 32, 56, 94],[9, 'Snehansh', 'Male', 32, 16, 94],[10, 'Shobhit', 'Male', 32, 28, 94]]\n",
    "df = pd.DataFrame(data, columns=[ 'Roll Number', 'Name', 'Gender', 'Marks1', 'Marks2', 'Marks3'])\n",
    "\n",
    "print(df)"
   ]
  },
  {
   "cell_type": "markdown",
   "id": "c3dfc74f",
   "metadata": {},
   "source": [
    "### 2. Create a new column with total marks"
   ]
  },
  {
   "cell_type": "code",
   "execution_count": 2,
   "id": "e7fc922b",
   "metadata": {
    "scrolled": true
   },
   "outputs": [
    {
     "data": {
      "text/html": [
       "<div>\n",
       "<style scoped>\n",
       "    .dataframe tbody tr th:only-of-type {\n",
       "        vertical-align: middle;\n",
       "    }\n",
       "\n",
       "    .dataframe tbody tr th {\n",
       "        vertical-align: top;\n",
       "    }\n",
       "\n",
       "    .dataframe thead th {\n",
       "        text-align: right;\n",
       "    }\n",
       "</style>\n",
       "<table border=\"1\" class=\"dataframe\">\n",
       "  <thead>\n",
       "    <tr style=\"text-align: right;\">\n",
       "      <th></th>\n",
       "      <th>Roll Number</th>\n",
       "      <th>Name</th>\n",
       "      <th>Gender</th>\n",
       "      <th>Marks1</th>\n",
       "      <th>Marks2</th>\n",
       "      <th>Marks3</th>\n",
       "      <th>Total_Marks</th>\n",
       "    </tr>\n",
       "  </thead>\n",
       "  <tbody>\n",
       "    <tr>\n",
       "      <th>0</th>\n",
       "      <td>1</td>\n",
       "      <td>Abeer</td>\n",
       "      <td>Male</td>\n",
       "      <td>38</td>\n",
       "      <td>86</td>\n",
       "      <td>91</td>\n",
       "      <td>215</td>\n",
       "    </tr>\n",
       "    <tr>\n",
       "      <th>1</th>\n",
       "      <td>2</td>\n",
       "      <td>Ananya</td>\n",
       "      <td>Female</td>\n",
       "      <td>32</td>\n",
       "      <td>26</td>\n",
       "      <td>94</td>\n",
       "      <td>152</td>\n",
       "    </tr>\n",
       "    <tr>\n",
       "      <th>2</th>\n",
       "      <td>3</td>\n",
       "      <td>Aditya</td>\n",
       "      <td>Male</td>\n",
       "      <td>72</td>\n",
       "      <td>24</td>\n",
       "      <td>100</td>\n",
       "      <td>196</td>\n",
       "    </tr>\n",
       "    <tr>\n",
       "      <th>3</th>\n",
       "      <td>4</td>\n",
       "      <td>Reeva</td>\n",
       "      <td>Female</td>\n",
       "      <td>82</td>\n",
       "      <td>83</td>\n",
       "      <td>64</td>\n",
       "      <td>229</td>\n",
       "    </tr>\n",
       "    <tr>\n",
       "      <th>4</th>\n",
       "      <td>5</td>\n",
       "      <td>Saanvi</td>\n",
       "      <td>Female</td>\n",
       "      <td>32</td>\n",
       "      <td>56</td>\n",
       "      <td>94</td>\n",
       "      <td>182</td>\n",
       "    </tr>\n",
       "    <tr>\n",
       "      <th>5</th>\n",
       "      <td>6</td>\n",
       "      <td>Amruni</td>\n",
       "      <td>Female</td>\n",
       "      <td>32</td>\n",
       "      <td>56</td>\n",
       "      <td>94</td>\n",
       "      <td>182</td>\n",
       "    </tr>\n",
       "    <tr>\n",
       "      <th>6</th>\n",
       "      <td>7</td>\n",
       "      <td>Anant</td>\n",
       "      <td>Male</td>\n",
       "      <td>32</td>\n",
       "      <td>56</td>\n",
       "      <td>94</td>\n",
       "      <td>182</td>\n",
       "    </tr>\n",
       "    <tr>\n",
       "      <th>7</th>\n",
       "      <td>8</td>\n",
       "      <td>Apporva</td>\n",
       "      <td>Female</td>\n",
       "      <td>32</td>\n",
       "      <td>56</td>\n",
       "      <td>94</td>\n",
       "      <td>182</td>\n",
       "    </tr>\n",
       "    <tr>\n",
       "      <th>8</th>\n",
       "      <td>9</td>\n",
       "      <td>Snehansh</td>\n",
       "      <td>Male</td>\n",
       "      <td>32</td>\n",
       "      <td>16</td>\n",
       "      <td>94</td>\n",
       "      <td>142</td>\n",
       "    </tr>\n",
       "    <tr>\n",
       "      <th>9</th>\n",
       "      <td>10</td>\n",
       "      <td>Shobhit</td>\n",
       "      <td>Male</td>\n",
       "      <td>32</td>\n",
       "      <td>28</td>\n",
       "      <td>94</td>\n",
       "      <td>154</td>\n",
       "    </tr>\n",
       "  </tbody>\n",
       "</table>\n",
       "</div>"
      ],
      "text/plain": [
       "   Roll Number      Name  Gender  Marks1  Marks2  Marks3  Total_Marks\n",
       "0            1     Abeer    Male      38      86      91          215\n",
       "1            2    Ananya  Female      32      26      94          152\n",
       "2            3    Aditya    Male      72      24     100          196\n",
       "3            4     Reeva  Female      82      83      64          229\n",
       "4            5    Saanvi  Female      32      56      94          182\n",
       "5            6    Amruni  Female      32      56      94          182\n",
       "6            7     Anant    Male      32      56      94          182\n",
       "7            8   Apporva  Female      32      56      94          182\n",
       "8            9  Snehansh    Male      32      16      94          142\n",
       "9           10   Shobhit    Male      32      28      94          154"
      ]
     },
     "execution_count": 2,
     "metadata": {},
     "output_type": "execute_result"
    }
   ],
   "source": [
    "df['Total_Marks'] = df['Marks1']+df['Marks2']+df['Marks3']\n",
    "df"
   ]
  },
  {
   "cell_type": "markdown",
   "id": "8f7b9d6e",
   "metadata": {},
   "source": [
    "### 3. Find the lowest marks in Marks1"
   ]
  },
  {
   "cell_type": "code",
   "execution_count": 3,
   "id": "0d8b5483",
   "metadata": {},
   "outputs": [
    {
     "name": "stdout",
     "output_type": "stream",
     "text": [
      "32\n"
     ]
    }
   ],
   "source": [
    "minmarks=df.Marks1.min()\n",
    "print(minmarks)"
   ]
  },
  {
   "cell_type": "markdown",
   "id": "5e79b12b",
   "metadata": {},
   "source": [
    "### 4. Find the highest marks in Marks2"
   ]
  },
  {
   "cell_type": "code",
   "execution_count": 4,
   "id": "8673731d",
   "metadata": {},
   "outputs": [
    {
     "name": "stdout",
     "output_type": "stream",
     "text": [
      "86\n"
     ]
    }
   ],
   "source": [
    "maxmarks=df.Marks2.max()\n",
    "print(maxmarks)"
   ]
  },
  {
   "cell_type": "markdown",
   "id": "1722cee0",
   "metadata": {},
   "source": [
    "### 5. Find the average marks in Marks3"
   ]
  },
  {
   "cell_type": "code",
   "execution_count": 5,
   "id": "956c6419",
   "metadata": {
    "scrolled": true
   },
   "outputs": [
    {
     "name": "stdout",
     "output_type": "stream",
     "text": [
      "91.3\n"
     ]
    }
   ],
   "source": [
    "avgmarks=df.Marks3.mean()\n",
    "print(avgmarks)"
   ]
  },
  {
   "cell_type": "markdown",
   "id": "e63b2e9f",
   "metadata": {},
   "source": [
    "### 6. Find student name with highest average"
   ]
  },
  {
   "cell_type": "code",
   "execution_count": 6,
   "id": "d395fbdb",
   "metadata": {},
   "outputs": [
    {
     "data": {
      "text/html": [
       "<div>\n",
       "<style scoped>\n",
       "    .dataframe tbody tr th:only-of-type {\n",
       "        vertical-align: middle;\n",
       "    }\n",
       "\n",
       "    .dataframe tbody tr th {\n",
       "        vertical-align: top;\n",
       "    }\n",
       "\n",
       "    .dataframe thead th {\n",
       "        text-align: right;\n",
       "    }\n",
       "</style>\n",
       "<table border=\"1\" class=\"dataframe\">\n",
       "  <thead>\n",
       "    <tr style=\"text-align: right;\">\n",
       "      <th></th>\n",
       "      <th>Roll Number</th>\n",
       "      <th>Name</th>\n",
       "      <th>Gender</th>\n",
       "      <th>Marks1</th>\n",
       "      <th>Marks2</th>\n",
       "      <th>Marks3</th>\n",
       "      <th>Total_Marks</th>\n",
       "      <th>Average_Marks</th>\n",
       "    </tr>\n",
       "  </thead>\n",
       "  <tbody>\n",
       "    <tr>\n",
       "      <th>0</th>\n",
       "      <td>1</td>\n",
       "      <td>Abeer</td>\n",
       "      <td>Male</td>\n",
       "      <td>38</td>\n",
       "      <td>86</td>\n",
       "      <td>91</td>\n",
       "      <td>215</td>\n",
       "      <td>71.666667</td>\n",
       "    </tr>\n",
       "    <tr>\n",
       "      <th>1</th>\n",
       "      <td>2</td>\n",
       "      <td>Ananya</td>\n",
       "      <td>Female</td>\n",
       "      <td>32</td>\n",
       "      <td>26</td>\n",
       "      <td>94</td>\n",
       "      <td>152</td>\n",
       "      <td>50.666667</td>\n",
       "    </tr>\n",
       "    <tr>\n",
       "      <th>2</th>\n",
       "      <td>3</td>\n",
       "      <td>Aditya</td>\n",
       "      <td>Male</td>\n",
       "      <td>72</td>\n",
       "      <td>24</td>\n",
       "      <td>100</td>\n",
       "      <td>196</td>\n",
       "      <td>65.333333</td>\n",
       "    </tr>\n",
       "    <tr>\n",
       "      <th>3</th>\n",
       "      <td>4</td>\n",
       "      <td>Reeva</td>\n",
       "      <td>Female</td>\n",
       "      <td>82</td>\n",
       "      <td>83</td>\n",
       "      <td>64</td>\n",
       "      <td>229</td>\n",
       "      <td>76.333333</td>\n",
       "    </tr>\n",
       "    <tr>\n",
       "      <th>4</th>\n",
       "      <td>5</td>\n",
       "      <td>Saanvi</td>\n",
       "      <td>Female</td>\n",
       "      <td>32</td>\n",
       "      <td>56</td>\n",
       "      <td>94</td>\n",
       "      <td>182</td>\n",
       "      <td>60.666667</td>\n",
       "    </tr>\n",
       "    <tr>\n",
       "      <th>5</th>\n",
       "      <td>6</td>\n",
       "      <td>Amruni</td>\n",
       "      <td>Female</td>\n",
       "      <td>32</td>\n",
       "      <td>56</td>\n",
       "      <td>94</td>\n",
       "      <td>182</td>\n",
       "      <td>60.666667</td>\n",
       "    </tr>\n",
       "    <tr>\n",
       "      <th>6</th>\n",
       "      <td>7</td>\n",
       "      <td>Anant</td>\n",
       "      <td>Male</td>\n",
       "      <td>32</td>\n",
       "      <td>56</td>\n",
       "      <td>94</td>\n",
       "      <td>182</td>\n",
       "      <td>60.666667</td>\n",
       "    </tr>\n",
       "    <tr>\n",
       "      <th>7</th>\n",
       "      <td>8</td>\n",
       "      <td>Apporva</td>\n",
       "      <td>Female</td>\n",
       "      <td>32</td>\n",
       "      <td>56</td>\n",
       "      <td>94</td>\n",
       "      <td>182</td>\n",
       "      <td>60.666667</td>\n",
       "    </tr>\n",
       "    <tr>\n",
       "      <th>8</th>\n",
       "      <td>9</td>\n",
       "      <td>Snehansh</td>\n",
       "      <td>Male</td>\n",
       "      <td>32</td>\n",
       "      <td>16</td>\n",
       "      <td>94</td>\n",
       "      <td>142</td>\n",
       "      <td>47.333333</td>\n",
       "    </tr>\n",
       "    <tr>\n",
       "      <th>9</th>\n",
       "      <td>10</td>\n",
       "      <td>Shobhit</td>\n",
       "      <td>Male</td>\n",
       "      <td>32</td>\n",
       "      <td>28</td>\n",
       "      <td>94</td>\n",
       "      <td>154</td>\n",
       "      <td>51.333333</td>\n",
       "    </tr>\n",
       "  </tbody>\n",
       "</table>\n",
       "</div>"
      ],
      "text/plain": [
       "   Roll Number      Name  Gender  Marks1  Marks2  Marks3  Total_Marks  \\\n",
       "0            1     Abeer    Male      38      86      91          215   \n",
       "1            2    Ananya  Female      32      26      94          152   \n",
       "2            3    Aditya    Male      72      24     100          196   \n",
       "3            4     Reeva  Female      82      83      64          229   \n",
       "4            5    Saanvi  Female      32      56      94          182   \n",
       "5            6    Amruni  Female      32      56      94          182   \n",
       "6            7     Anant    Male      32      56      94          182   \n",
       "7            8   Apporva  Female      32      56      94          182   \n",
       "8            9  Snehansh    Male      32      16      94          142   \n",
       "9           10   Shobhit    Male      32      28      94          154   \n",
       "\n",
       "   Average_Marks  \n",
       "0      71.666667  \n",
       "1      50.666667  \n",
       "2      65.333333  \n",
       "3      76.333333  \n",
       "4      60.666667  \n",
       "5      60.666667  \n",
       "6      60.666667  \n",
       "7      60.666667  \n",
       "8      47.333333  \n",
       "9      51.333333  "
      ]
     },
     "execution_count": 6,
     "metadata": {},
     "output_type": "execute_result"
    }
   ],
   "source": [
    "df['Average_Marks'] = (df['Marks1']+df['Marks2']+df['Marks3'])/3\n",
    "df"
   ]
  },
  {
   "cell_type": "code",
   "execution_count": 7,
   "id": "74f96267",
   "metadata": {},
   "outputs": [
    {
     "data": {
      "text/plain": [
       "3    Reeva\n",
       "Name: Name, dtype: object"
      ]
     },
     "execution_count": 7,
     "metadata": {},
     "output_type": "execute_result"
    }
   ],
   "source": [
    "df[df.Average_Marks==df.Average_Marks.max()].Name"
   ]
  },
  {
   "cell_type": "markdown",
   "id": "93bb99b7",
   "metadata": {},
   "source": [
    "### 7. Find how many students failed in Marks2 (<40)"
   ]
  },
  {
   "cell_type": "code",
   "execution_count": 9,
   "id": "c53e0c58",
   "metadata": {},
   "outputs": [
    {
     "name": "stdout",
     "output_type": "stream",
     "text": [
      "No of students failing Marks 2 is 4\n"
     ]
    }
   ],
   "source": [
    "df[\"Result\"]=df.Marks2.apply(lambda x : 'Fail'  if x<40 else 'Pass')\n",
    "count=df.Result.value_counts()[\"Fail\"]\n",
    "print (\"No of students failing Marks 2 is\",count)"
   ]
  },
  {
   "cell_type": "code",
   "execution_count": null,
   "id": "e2c34863",
   "metadata": {},
   "outputs": [],
   "source": []
  }
 ],
 "metadata": {
  "kernelspec": {
   "display_name": "Python 3 (ipykernel)",
   "language": "python",
   "name": "python3"
  },
  "language_info": {
   "codemirror_mode": {
    "name": "ipython",
    "version": 3
   },
   "file_extension": ".py",
   "mimetype": "text/x-python",
   "name": "python",
   "nbconvert_exporter": "python",
   "pygments_lexer": "ipython3",
   "version": "3.9.13"
  }
 },
 "nbformat": 4,
 "nbformat_minor": 5
}
